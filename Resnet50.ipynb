{
  "nbformat": 4,
  "nbformat_minor": 0,
  "metadata": {
    "colab": {
      "name": "Untitled11.ipynb",
      "provenance": []
    },
    "kernelspec": {
      "name": "python3",
      "display_name": "Python 3"
    }
  },
  "cells": [
    {
      "cell_type": "markdown",
      "metadata": {
        "id": "j74Ko3fyWtiA",
        "colab_type": "text"
      },
      "source": [
        "**Using Resnet50**"
      ]
    },
    {
      "cell_type": "code",
      "metadata": {
        "id": "nYdWtL0AWyT7",
        "colab_type": "code",
        "colab": {}
      },
      "source": [
        "import numpy as np\n",
        "from keras.preprocessing import image\n",
        "from keras.applications import resnet50 "
      ],
      "execution_count": 0,
      "outputs": []
    },
    {
      "cell_type": "code",
      "metadata": {
        "id": "Fc4wgHfNXPRl",
        "colab_type": "code",
        "outputId": "6e0ea8b9-7a87-478f-884d-dd2af3bb8b1f",
        "colab": {
          "base_uri": "https://localhost:8080/",
          "height": 71
        }
      },
      "source": [
        "model = resnet50.ResNet50()"
      ],
      "execution_count": 0,
      "outputs": [
        {
          "output_type": "stream",
          "text": [
            "Downloading data from https://github.com/fchollet/deep-learning-models/releases/download/v0.2/resnet50_weights_tf_dim_ordering_tf_kernels.h5\n",
            "102858752/102853048 [==============================] - 7s 0us/step\n"
          ],
          "name": "stdout"
        }
      ]
    },
    {
      "cell_type": "code",
      "metadata": {
        "id": "hB1PKdnfXydn",
        "colab_type": "code",
        "colab": {}
      },
      "source": [
        "#load image and resizing it to 224X224\n",
        "img = image.load_img('/content/bay.jpg',target_size=(224,224))"
      ],
      "execution_count": 0,
      "outputs": []
    },
    {
      "cell_type": "code",
      "metadata": {
        "id": "W9R2XUIrYJQq",
        "colab_type": "code",
        "colab": {}
      },
      "source": [
        "#converting image to array\n",
        "x = image.img_to_array(img)"
      ],
      "execution_count": 0,
      "outputs": []
    },
    {
      "cell_type": "code",
      "metadata": {
        "id": "86_P5vtCYaNi",
        "colab_type": "code",
        "colab": {}
      },
      "source": [
        "#add fourth dimension since keras expects\n",
        "x=np.expand_dims(x,axis=0)"
      ],
      "execution_count": 0,
      "outputs": []
    },
    {
      "cell_type": "code",
      "metadata": {
        "id": "R9XpOCozYulJ",
        "colab_type": "code",
        "colab": {}
      },
      "source": [
        "#scale the input image to the scale of range used in trained nn\n",
        "x = resnet50.preprocess_input(x)"
      ],
      "execution_count": 0,
      "outputs": []
    },
    {
      "cell_type": "code",
      "metadata": {
        "id": "JlZWmrb0ZDLw",
        "colab_type": "code",
        "outputId": "04459f26-d51a-4dde-b877-c0334d6d4ded",
        "colab": {
          "base_uri": "https://localhost:8080/",
          "height": 221
        }
      },
      "source": [
        "#predict\n",
        "prediction = model.predict(x)\n",
        "#look up the names of predicted classes \n",
        "predicted_classes = resnet50.decode_predictions(prediction,top =9)\n",
        "print(\"this is image of:\")\n",
        "for imagenet_id,name,likelihood in predicted_classes[0] :\n",
        "  print(\" - {} : {:2f}\".format(name,likelihood))"
      ],
      "execution_count": 0,
      "outputs": [
        {
          "output_type": "stream",
          "text": [
            "Downloading data from https://storage.googleapis.com/download.tensorflow.org/data/imagenet_class_index.json\n",
            "40960/35363 [==================================] - 0s 0us/step\n",
            "this is image of:\n",
            " - seashore : 0.482728\n",
            " - lakeside : 0.329963\n",
            " - dock : 0.105207\n",
            " - breakwater : 0.051779\n",
            " - promontory : 0.009503\n",
            " - catamaran : 0.004744\n",
            " - sandbar : 0.002375\n",
            " - trimaran : 0.001249\n",
            " - pier : 0.001172\n"
          ],
          "name": "stdout"
        }
      ]
    }
  ]
}