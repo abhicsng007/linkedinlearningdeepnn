{
  "nbformat": 4,
  "nbformat_minor": 0,
  "metadata": {
    "colab": {
      "name": "Untitled16.ipynb",
      "provenance": []
    },
    "kernelspec": {
      "name": "python3",
      "display_name": "Python 3"
    },
    "accelerator": "GPU"
  },
  "cells": [
    {
      "cell_type": "markdown",
      "metadata": {
        "id": "SdBaU9pEaP8u",
        "colab_type": "text"
      },
      "source": [
        "MNIST CNN "
      ]
    },
    {
      "cell_type": "code",
      "metadata": {
        "id": "5GtcXRymaV79",
        "colab_type": "code",
        "colab": {}
      },
      "source": [
        "from keras.datasets import mnist\n",
        "from keras.preprocessing.image import load_img,img_to_array\n",
        "from keras.utils.np_utils import to_categorical\n",
        "from keras.models import Sequential\n",
        "from keras.layers import Dense,Conv2D,MaxPooling2D,Flatten,Dropout\n",
        "import numpy as np\n",
        "import matplotlib.pyplot as plt\n",
        "%matplotlib inline\n"
      ],
      "execution_count": 0,
      "outputs": []
    },
    {
      "cell_type": "code",
      "metadata": {
        "id": "byNd9gjYbK5q",
        "colab_type": "code",
        "outputId": "0cf1d895-dcab-41f9-d908-7f0a9c98f401",
        "colab": {
          "base_uri": "https://localhost:8080/",
          "height": 51
        }
      },
      "source": [
        "#load data \n",
        "(x_train,y_train),(x_test,y_test) = mnist.load_data()"
      ],
      "execution_count": 0,
      "outputs": [
        {
          "output_type": "stream",
          "text": [
            "Downloading data from https://s3.amazonaws.com/img-datasets/mnist.npz\n",
            "11493376/11490434 [==============================] - 2s 0us/step\n"
          ],
          "name": "stdout"
        }
      ]
    },
    {
      "cell_type": "code",
      "metadata": {
        "id": "LXYy19O7bUCk",
        "colab_type": "code",
        "outputId": "7133b9a1-072d-4fdb-bec1-2caa7432cec2",
        "colab": {
          "base_uri": "https://localhost:8080/",
          "height": 85
        }
      },
      "source": [
        "print(x_train.shape)\n",
        "print(y_train.shape)\n",
        "print(x_test.shape)\n",
        "print(y_test.shape)"
      ],
      "execution_count": 0,
      "outputs": [
        {
          "output_type": "stream",
          "text": [
            "(60000, 28, 28)\n",
            "(60000,)\n",
            "(10000, 28, 28)\n",
            "(10000,)\n"
          ],
          "name": "stdout"
        }
      ]
    },
    {
      "cell_type": "code",
      "metadata": {
        "id": "9zjTijlybu_b",
        "colab_type": "code",
        "outputId": "812ddc49-eec2-4b59-984d-377570c4a6c3",
        "colab": {
          "base_uri": "https://localhost:8080/",
          "height": 34
        }
      },
      "source": [
        "#understanding the image\n",
        "x_train[0].shape"
      ],
      "execution_count": 0,
      "outputs": [
        {
          "output_type": "execute_result",
          "data": {
            "text/plain": [
              "(28, 28)"
            ]
          },
          "metadata": {
            "tags": []
          },
          "execution_count": 4
        }
      ]
    },
    {
      "cell_type": "code",
      "metadata": {
        "id": "jeT1RmatcH8T",
        "colab_type": "code",
        "outputId": "7518a8aa-09ad-4532-a3c6-776e88142c33",
        "colab": {
          "base_uri": "https://localhost:8080/",
          "height": 282
        }
      },
      "source": [
        "\n",
        "plt.imshow(x_train[0],cmap='gray')"
      ],
      "execution_count": 0,
      "outputs": [
        {
          "output_type": "execute_result",
          "data": {
            "text/plain": [
              "<matplotlib.image.AxesImage at 0x7fec32d18358>"
            ]
          },
          "metadata": {
            "tags": []
          },
          "execution_count": 5
        },
        {
          "output_type": "display_data",
          "data": {
            "image/png": "[encoded data removed]",
            "text/plain": [
              "<Figure size 432x288 with 1 Axes>"
            ]
          },
          "metadata": {
            "tags": [],
            "needs_background": "light"
          }
        }
      ]
    },
    {
      "cell_type": "code",
      "metadata": {
        "id": "HipYCAQocMuK",
        "colab_type": "code",
        "outputId": "52b5ce2c-e83f-4bff-9573-d16af1db6df5",
        "colab": {
          "base_uri": "https://localhost:8080/",
          "height": 34
        }
      },
      "source": [
        "y_train[0]"
      ],
      "execution_count": 0,
      "outputs": [
        {
          "output_type": "execute_result",
          "data": {
            "text/plain": [
              "5"
            ]
          },
          "metadata": {
            "tags": []
          },
          "execution_count": 6
        }
      ]
    },
    {
      "cell_type": "code",
      "metadata": {
        "id": "d0V5yOifcX5C",
        "colab_type": "code",
        "colab": {}
      },
      "source": [
        "\n",
        "#preprocessing img data\n",
        "img_height,img_width = 28,28"
      ],
      "execution_count": 0,
      "outputs": []
    },
    {
      "cell_type": "code",
      "metadata": {
        "id": "PNejZh4Oco0C",
        "colab_type": "code",
        "outputId": "cabdb750-fb17-4526-fb01-97e572df88ff",
        "colab": {
          "base_uri": "https://localhost:8080/",
          "height": 51
        }
      },
      "source": [
        "x_train = x_train.reshape(60000,img_height , img_width,1)\n",
        "x_test = x_test.reshape(10000,img_height , img_width,1)\n",
        "print(x_train.shape)\n",
        "print(x_test.shape)"
      ],
      "execution_count": 0,
      "outputs": [
        {
          "output_type": "stream",
          "text": [
            "(60000, 28, 28, 1)\n",
            "(10000, 28, 28, 1)\n"
          ],
          "name": "stdout"
        }
      ]
    },
    {
      "cell_type": "code",
      "metadata": {
        "id": "B2YyW1eLdHSA",
        "colab_type": "code",
        "colab": {}
      },
      "source": [
        "#normalizing\n",
        "x_train = x_train.astype('float32')\n",
        "x_test = x_test.astype('float32')\n",
        "x_train /= 255.0\n",
        "x_test /= 255.0\n",
        "y_train = to_categorical(y_train,10)\n",
        "y_test = to_categorical(y_test,10)"
      ],
      "execution_count": 0,
      "outputs": []
    },
    {
      "cell_type": "code",
      "metadata": {
        "id": "oe8GXW2ud_mF",
        "colab_type": "code",
        "outputId": "8418fe71-9653-400d-fbf1-5ba9ddb508f9",
        "colab": {
          "base_uri": "https://localhost:8080/",
          "height": 85
        }
      },
      "source": [
        "print(x_train.shape)\n",
        "print(y_train.shape)\n",
        "print(x_test.shape)\n",
        "print(y_test.shape)"
      ],
      "execution_count": 0,
      "outputs": [
        {
          "output_type": "stream",
          "text": [
            "(60000, 28, 28, 1)\n",
            "(60000, 10)\n",
            "(10000, 28, 28, 1)\n",
            "(10000, 10)\n"
          ],
          "name": "stdout"
        }
      ]
    },
    {
      "cell_type": "code",
      "metadata": {
        "id": "CBKJBmMYgEUb",
        "colab_type": "code",
        "colab": {}
      },
      "source": [
        "#compiling\n",
        "cnn = Sequential()\n",
        "cnn.add(Conv2D(32,kernel_size=(5,5),input_shape = (28,28,1),padding='same',activation= 'relu'))\n",
        "cnn.add(MaxPooling2D())\n",
        "cnn.add(Dropout(0.25))\n",
        "cnn.add(Conv2D(64,kernel_size=(5,5),padding='same',activation= 'relu'))\n",
        "cnn.add(MaxPooling2D())\n",
        "cnn.add(Dropout(0.5))\n",
        "cnn.add(Flatten())\n",
        "cnn.add(Dense(1024,activation='relu'))\n",
        "cnn.add(Dense(10,activation='softmax'))\n",
        "cnn.compile(optimizer='adam',loss = 'categorical_crossentropy' ,metrics=['accuracy'])\n"
      ],
      "execution_count": 0,
      "outputs": []
    },
    {
      "cell_type": "code",
      "metadata": {
        "id": "OIbwqlaShueu",
        "colab_type": "code",
        "outputId": "fdedbe29-b87a-4588-f3b9-24315aa88fcc",
        "colab": {
          "base_uri": "https://localhost:8080/",
          "height": 204
        }
      },
      "source": [
        "#train the model\n",
        "history = cnn.fit(x_train,y_train,epochs=5,verbose=1,validation_data=(x_test,y_test))"
      ],
      "execution_count": 0,
      "outputs": [
        {
          "output_type": "stream",
          "text": [
            "Train on 60000 samples, validate on 10000 samples\n",
            "Epoch 1/5\n",
            "60000/60000 [==============================] - 12s 206us/step - loss: 0.1390 - accuracy: 0.9561 - val_loss: 0.0471 - val_accuracy: 0.9847\n",
            "Epoch 2/5\n",
            "60000/60000 [==============================] - 12s 202us/step - loss: 0.0621 - accuracy: 0.9811 - val_loss: 0.0283 - val_accuracy: 0.9904\n",
            "Epoch 3/5\n",
            "60000/60000 [==============================] - 12s 201us/step - loss: 0.0483 - accuracy: 0.9854 - val_loss: 0.0228 - val_accuracy: 0.9934\n",
            "Epoch 4/5\n",
            "60000/60000 [==============================] - 12s 207us/step - loss: 0.0411 - accuracy: 0.9871 - val_loss: 0.0260 - val_accuracy: 0.9923\n",
            "Epoch 5/5\n",
            "60000/60000 [==============================] - 13s 213us/step - loss: 0.0357 - accuracy: 0.9886 - val_loss: 0.0195 - val_accuracy: 0.9939\n"
          ],
          "name": "stdout"
        }
      ]
    },
    {
      "cell_type": "code",
      "metadata": {
        "id": "DopmFbjpll2Z",
        "colab_type": "code",
        "outputId": "f0c2a492-d940-47dc-ef89-0b492dbf9a38",
        "colab": {
          "base_uri": "https://localhost:8080/",
          "height": 285
        }
      },
      "source": [
        "#accuracy and evaluation\n",
        "plt.plot(history.history['accuracy'])\n",
        "\n"
      ],
      "execution_count": 0,
      "outputs": [
        {
          "output_type": "execute_result",
          "data": {
            "text/plain": [
              "[<matplotlib.lines.Line2D at 0x7febc0149748>]"
            ]
          },
          "metadata": {
            "tags": []
          },
          "execution_count": 26
        },
        {
          "output_type": "display_data",
          "data": {
            "image/png": "[encoded data removed]",
            "text/plain": [
              "<Figure size 432x288 with 1 Axes>"
            ]
          },
          "metadata": {
            "tags": [],
            "needs_background": "light"
          }
        }
      ]
    },
    {
      "cell_type": "code",
      "metadata": {
        "id": "LOgTplUqnjRZ",
        "colab_type": "code",
        "outputId": "9e1245ec-2ace-46d5-94b0-176698c04843",
        "colab": {
          "base_uri": "https://localhost:8080/",
          "height": 282
        }
      },
      "source": [
        "plt.plot(history.history['accuracy'])\n",
        "plt.plot(history.history['val_accuracy'])\n",
        "\n"
      ],
      "execution_count": 0,
      "outputs": [
        {
          "output_type": "execute_result",
          "data": {
            "text/plain": [
              "[<matplotlib.lines.Line2D at 0x7febc0149e48>]"
            ]
          },
          "metadata": {
            "tags": []
          },
          "execution_count": 27
        },
        {
          "output_type": "display_data",
          "data": {
            "image/png": "[encoded data removed]",
            "text/plain": [
              "<Figure size 432x288 with 1 Axes>"
            ]
          },
          "metadata": {
            "tags": [],
            "needs_background": "light"
          }
        }
      ]
    },
    {
      "cell_type": "code",
      "metadata": {
        "id": "qV-CXmxCosMp",
        "colab_type": "code",
        "outputId": "acaa8ca8-e9a0-4770-afef-3c94b47f1c4f",
        "colab": {
          "base_uri": "https://localhost:8080/",
          "height": 282
        }
      },
      "source": [
        "plt.plot(history.history['accuracy'])\n",
        "plt.plot(history.history['val_accuracy'])\n",
        "plt.plot(history.history['loss'])"
      ],
      "execution_count": 0,
      "outputs": [
        {
          "output_type": "execute_result",
          "data": {
            "text/plain": [
              "[<matplotlib.lines.Line2D at 0x7febc0042f28>]"
            ]
          },
          "metadata": {
            "tags": []
          },
          "execution_count": 28
        },
        {
          "output_type": "display_data",
          "data": {
            "image/png": "[encoded data removed]",
            "text/plain": [
              "<Figure size 432x288 with 1 Axes>"
            ]
          },
          "metadata": {
            "tags": [],
            "needs_background": "light"
          }
        }
      ]
    },
    {
      "cell_type": "code",
      "metadata": {
        "id": "wV6aO6YAo12f",
        "colab_type": "code",
        "outputId": "24b84ca8-0800-433c-9700-7a6647704ae0",
        "colab": {
          "base_uri": "https://localhost:8080/",
          "height": 34
        }
      },
      "source": [
        "score = cnn.evaluate(x_test,y_test)"
      ],
      "execution_count": 0,
      "outputs": [
        {
          "output_type": "stream",
          "text": [
            "10000/10000 [==============================] - 1s 90us/step\n"
          ],
          "name": "stdout"
        }
      ]
    },
    {
      "cell_type": "code",
      "metadata": {
        "id": "-AXwRR3ypGtE",
        "colab_type": "code",
        "outputId": "65c07f2e-ffa5-46bc-a5d0-4d3ccc0d13ff",
        "colab": {
          "base_uri": "https://localhost:8080/",
          "height": 34
        }
      },
      "source": [
        "score"
      ],
      "execution_count": 0,
      "outputs": [
        {
          "output_type": "execute_result",
          "data": {
            "text/plain": [
              "[0.05666073753641838, 0.9921000003814697]"
            ]
          },
          "metadata": {
            "tags": []
          },
          "execution_count": 22
        }
      ]
    },
    {
      "cell_type": "code",
      "metadata": {
        "id": "odkHVZLVpIhE",
        "colab_type": "code",
        "colab": {}
      },
      "source": [
        ""
      ],
      "execution_count": 0,
      "outputs": []
    }
  ]
}