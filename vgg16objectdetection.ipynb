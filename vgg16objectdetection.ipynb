{
  "nbformat": 4,
  "nbformat_minor": 0,
  "metadata": {
    "colab": {
      "name": "Untitled13.ipynb",
      "provenance": [],
      "collapsed_sections": []
    },
    "kernelspec": {
      "name": "python3",
      "display_name": "Python 3"
    },
    "accelerator": "GPU"
  },
  "cells": [
    {
      "cell_type": "code",
      "metadata": {
        "id": "mSwmZq8-RNO1",
        "colab_type": "code",
        "colab": {}
      },
      "source": [
        "import keras\n",
        "from keras.datasets import cifar10\n",
        "from keras.models import Sequential\n",
        "from keras.layers import Dense,Dropout,Conv2D,MaxPooling2D,Flatten\n",
        "import tensorflow as tf\n",
        "from pathlib import Path\n",
        "from keras.preprocessing import image\n",
        "import numpy as np\n",
        "\n"
      ],
      "execution_count": 0,
      "outputs": []
    },
    {
      "cell_type": "markdown",
      "metadata": {
        "id": "HrqxVclecGby",
        "colab_type": "text"
      },
      "source": [
        "**Image Classification**"
      ]
    },
    {
      "cell_type": "code",
      "metadata": {
        "id": "510Y88bRTlP_",
        "colab_type": "code",
        "outputId": "0502b929-3bd9-4b81-82dc-b62080746931",
        "colab": {
          "base_uri": "https://localhost:8080/",
          "height": 51
        }
      },
      "source": [
        "#load dataset\n",
        "(x_train,y_train),(x_test,y_test) = cifar10.load_data()"
      ],
      "execution_count": 0,
      "outputs": [
        {
          "output_type": "stream",
          "text": [
            "Downloading data from https://www.cs.toronto.edu/~kriz/cifar-10-python.tar.gz\n",
            "170500096/170498071 [==============================] - 6s 0us/step\n"
          ],
          "name": "stdout"
        }
      ]
    },
    {
      "cell_type": "code",
      "metadata": {
        "id": "qWHfdBDtUEgB",
        "colab_type": "code",
        "colab": {}
      },
      "source": [
        "#normalizing data\n",
        "x_train = x_train.astype(\"float32\")/255\n",
        "x_test = x_test.astype(\"float32\")/255"
      ],
      "execution_count": 0,
      "outputs": []
    },
    {
      "cell_type": "code",
      "metadata": {
        "id": "_cLKyJ-IUjRY",
        "colab_type": "code",
        "colab": {}
      },
      "source": [
        "#converting labels from 0-9 in an array having one element 1 at a time corresponding to class\n",
        "y_train = keras.utils.to_categorical(y_train,10)\n",
        "y_test = keras.utils.to_categorical(y_test,10)"
      ],
      "execution_count": 0,
      "outputs": []
    },
    {
      "cell_type": "code",
      "metadata": {
        "id": "sn7ndGm4VRFI",
        "colab_type": "code",
        "outputId": "54374bbd-ba5a-4c27-f297-abfeb1fb40a1",
        "colab": {
          "base_uri": "https://localhost:8080/",
          "height": 561
        }
      },
      "source": [
        "#create a model\n",
        "model = Sequential()\n",
        "model.add(Conv2D(32,(3,3),padding='same',activation='relu',input_shape=(32,32,3)))\n",
        "model.add(Conv2D(32,(3,3),activation='relu'))\n",
        "model.add(MaxPooling2D(pool_size=(2,2)))\n",
        "model.add(Dropout(0.25))\n",
        "model.add(Conv2D(64,(3,3),padding='same',activation='relu'))\n",
        "model.add(Conv2D(64,(3,3),activation='relu'))\n",
        "model.add(MaxPooling2D(pool_size=(2,2)))\n",
        "model.add(Dropout(0.25))\n",
        "model.add(Flatten())\n",
        "model.add(Dense(512,activation='relu'))\n",
        "model.add(Dropout(0.5))\n",
        "model.add(Dense(10,activation='softmax'))\n",
        "model.summary()\n"
      ],
      "execution_count": 0,
      "outputs": [
        {
          "output_type": "stream",
          "text": [
            "Model: \"sequential_1\"\n",
            "_________________________________________________________________\n",
            "Layer (type)                 Output Shape              Param #   \n",
            "=================================================================\n",
            "conv2d_1 (Conv2D)            (None, 32, 32, 32)        896       \n",
            "_________________________________________________________________\n",
            "conv2d_2 (Conv2D)            (None, 30, 30, 32)        9248      \n",
            "_________________________________________________________________\n",
            "max_pooling2d_1 (MaxPooling2 (None, 15, 15, 32)        0         \n",
            "_________________________________________________________________\n",
            "dropout_1 (Dropout)          (None, 15, 15, 32)        0         \n",
            "_________________________________________________________________\n",
            "conv2d_3 (Conv2D)            (None, 15, 15, 64)        18496     \n",
            "_________________________________________________________________\n",
            "conv2d_4 (Conv2D)            (None, 13, 13, 64)        36928     \n",
            "_________________________________________________________________\n",
            "max_pooling2d_2 (MaxPooling2 (None, 6, 6, 64)          0         \n",
            "_________________________________________________________________\n",
            "dropout_2 (Dropout)          (None, 6, 6, 64)          0         \n",
            "_________________________________________________________________\n",
            "flatten_1 (Flatten)          (None, 2304)              0         \n",
            "_________________________________________________________________\n",
            "dense_1 (Dense)              (None, 512)               1180160   \n",
            "_________________________________________________________________\n",
            "dropout_3 (Dropout)          (None, 512)               0         \n",
            "_________________________________________________________________\n",
            "dense_2 (Dense)              (None, 10)                5130      \n",
            "=================================================================\n",
            "Total params: 1,250,858\n",
            "Trainable params: 1,250,858\n",
            "Non-trainable params: 0\n",
            "_________________________________________________________________\n"
          ],
          "name": "stdout"
        }
      ]
    },
    {
      "cell_type": "code",
      "metadata": {
        "id": "FsTSW4geV208",
        "colab_type": "code",
        "outputId": "cf02b1dc-a13f-415e-a941-f3131496d52a",
        "colab": {
          "base_uri": "https://localhost:8080/",
          "height": 561
        }
      },
      "source": [
        "#compile the nn\n",
        "model.compile(loss = 'categorical_crossentropy',optimizer='adam',metrics=[\"accuracy\"])\n",
        "model.summary()"
      ],
      "execution_count": 0,
      "outputs": [
        {
          "output_type": "stream",
          "text": [
            "Model: \"sequential_1\"\n",
            "_________________________________________________________________\n",
            "Layer (type)                 Output Shape              Param #   \n",
            "=================================================================\n",
            "conv2d_1 (Conv2D)            (None, 32, 32, 32)        896       \n",
            "_________________________________________________________________\n",
            "conv2d_2 (Conv2D)            (None, 30, 30, 32)        9248      \n",
            "_________________________________________________________________\n",
            "max_pooling2d_1 (MaxPooling2 (None, 15, 15, 32)        0         \n",
            "_________________________________________________________________\n",
            "dropout_1 (Dropout)          (None, 15, 15, 32)        0         \n",
            "_________________________________________________________________\n",
            "conv2d_3 (Conv2D)            (None, 15, 15, 64)        18496     \n",
            "_________________________________________________________________\n",
            "conv2d_4 (Conv2D)            (None, 13, 13, 64)        36928     \n",
            "_________________________________________________________________\n",
            "max_pooling2d_2 (MaxPooling2 (None, 6, 6, 64)          0         \n",
            "_________________________________________________________________\n",
            "dropout_2 (Dropout)          (None, 6, 6, 64)          0         \n",
            "_________________________________________________________________\n",
            "flatten_1 (Flatten)          (None, 2304)              0         \n",
            "_________________________________________________________________\n",
            "dense_1 (Dense)              (None, 512)               1180160   \n",
            "_________________________________________________________________\n",
            "dropout_3 (Dropout)          (None, 512)               0         \n",
            "_________________________________________________________________\n",
            "dense_2 (Dense)              (None, 10)                5130      \n",
            "=================================================================\n",
            "Total params: 1,250,858\n",
            "Trainable params: 1,250,858\n",
            "Non-trainable params: 0\n",
            "_________________________________________________________________\n"
          ],
          "name": "stdout"
        }
      ]
    },
    {
      "cell_type": "code",
      "metadata": {
        "id": "Cx5zAi3PabiV",
        "colab_type": "code",
        "outputId": "a8af7801-7492-4b0b-825c-6d9dba509943",
        "colab": {
          "base_uri": "https://localhost:8080/",
          "height": 1000
        }
      },
      "source": [
        "#train the nn\n",
        "model.fit(x_train,y_train,batch_size=64,epochs=30,validation_data=(x_test,y_test),shuffle=True)"
      ],
      "execution_count": 0,
      "outputs": [
        {
          "output_type": "stream",
          "text": [
            "Train on 50000 samples, validate on 10000 samples\n",
            "Epoch 1/30\n",
            "50000/50000 [==============================] - 6s 122us/step - loss: 1.0453 - accuracy: 0.6298 - val_loss: 0.9254 - val_accuracy: 0.6761\n",
            "Epoch 2/30\n",
            "50000/50000 [==============================] - 6s 121us/step - loss: 0.9201 - accuracy: 0.6761 - val_loss: 0.7962 - val_accuracy: 0.7264\n",
            "Epoch 3/30\n",
            "50000/50000 [==============================] - 6s 120us/step - loss: 0.8415 - accuracy: 0.7034 - val_loss: 0.7539 - val_accuracy: 0.7438\n",
            "Epoch 4/30\n",
            "50000/50000 [==============================] - 6s 121us/step - loss: 0.7837 - accuracy: 0.7246 - val_loss: 0.7348 - val_accuracy: 0.7455\n",
            "Epoch 5/30\n",
            "50000/50000 [==============================] - 6s 122us/step - loss: 0.7359 - accuracy: 0.7407 - val_loss: 0.7023 - val_accuracy: 0.7565\n",
            "Epoch 6/30\n",
            "50000/50000 [==============================] - 6s 120us/step - loss: 0.6946 - accuracy: 0.7560 - val_loss: 0.6758 - val_accuracy: 0.7660\n",
            "Epoch 7/30\n",
            "50000/50000 [==============================] - 6s 120us/step - loss: 0.6585 - accuracy: 0.7681 - val_loss: 0.6910 - val_accuracy: 0.7633\n",
            "Epoch 8/30\n",
            "50000/50000 [==============================] - 6s 120us/step - loss: 0.6262 - accuracy: 0.7796 - val_loss: 0.6720 - val_accuracy: 0.7662\n",
            "Epoch 9/30\n",
            "50000/50000 [==============================] - 6s 122us/step - loss: 0.5970 - accuracy: 0.7884 - val_loss: 0.6564 - val_accuracy: 0.7790\n",
            "Epoch 10/30\n",
            "50000/50000 [==============================] - 6s 121us/step - loss: 0.5723 - accuracy: 0.7959 - val_loss: 0.6651 - val_accuracy: 0.7728\n",
            "Epoch 11/30\n",
            "50000/50000 [==============================] - 6s 120us/step - loss: 0.5526 - accuracy: 0.8038 - val_loss: 0.6467 - val_accuracy: 0.7801\n",
            "Epoch 12/30\n",
            "50000/50000 [==============================] - 6s 120us/step - loss: 0.5295 - accuracy: 0.8113 - val_loss: 0.6311 - val_accuracy: 0.7937\n",
            "Epoch 13/30\n",
            "50000/50000 [==============================] - 6s 121us/step - loss: 0.5183 - accuracy: 0.8173 - val_loss: 0.6407 - val_accuracy: 0.7866\n",
            "Epoch 14/30\n",
            "50000/50000 [==============================] - 6s 120us/step - loss: 0.4924 - accuracy: 0.8254 - val_loss: 0.7035 - val_accuracy: 0.7699\n",
            "Epoch 15/30\n",
            "50000/50000 [==============================] - 6s 121us/step - loss: 0.4864 - accuracy: 0.8265 - val_loss: 0.6666 - val_accuracy: 0.7847\n",
            "Epoch 16/30\n",
            "50000/50000 [==============================] - 6s 120us/step - loss: 0.4693 - accuracy: 0.8326 - val_loss: 0.6665 - val_accuracy: 0.7821\n",
            "Epoch 17/30\n",
            "50000/50000 [==============================] - 6s 121us/step - loss: 0.4548 - accuracy: 0.8369 - val_loss: 0.6416 - val_accuracy: 0.7894\n",
            "Epoch 18/30\n",
            "50000/50000 [==============================] - 6s 123us/step - loss: 0.4378 - accuracy: 0.8437 - val_loss: 0.6251 - val_accuracy: 0.7928\n",
            "Epoch 19/30\n",
            "50000/50000 [==============================] - 6s 126us/step - loss: 0.4334 - accuracy: 0.8451 - val_loss: 0.6438 - val_accuracy: 0.7929\n",
            "Epoch 20/30\n",
            "50000/50000 [==============================] - 6s 123us/step - loss: 0.4237 - accuracy: 0.8496 - val_loss: 0.6240 - val_accuracy: 0.7986\n",
            "Epoch 21/30\n",
            "50000/50000 [==============================] - 6s 120us/step - loss: 0.4149 - accuracy: 0.8521 - val_loss: 0.6470 - val_accuracy: 0.7929\n",
            "Epoch 22/30\n",
            "50000/50000 [==============================] - 6s 120us/step - loss: 0.4032 - accuracy: 0.8571 - val_loss: 0.6450 - val_accuracy: 0.7932\n",
            "Epoch 23/30\n",
            "50000/50000 [==============================] - 6s 120us/step - loss: 0.3982 - accuracy: 0.8602 - val_loss: 0.6582 - val_accuracy: 0.7936\n",
            "Epoch 24/30\n",
            "50000/50000 [==============================] - 6s 120us/step - loss: 0.3960 - accuracy: 0.8593 - val_loss: 0.6439 - val_accuracy: 0.7977\n",
            "Epoch 25/30\n",
            "50000/50000 [==============================] - 6s 122us/step - loss: 0.3807 - accuracy: 0.8664 - val_loss: 0.6730 - val_accuracy: 0.7978\n",
            "Epoch 26/30\n",
            "50000/50000 [==============================] - 6s 120us/step - loss: 0.3786 - accuracy: 0.8668 - val_loss: 0.6542 - val_accuracy: 0.7958\n",
            "Epoch 27/30\n",
            "50000/50000 [==============================] - 6s 120us/step - loss: 0.3669 - accuracy: 0.8699 - val_loss: 0.6581 - val_accuracy: 0.7944\n",
            "Epoch 28/30\n",
            "50000/50000 [==============================] - 6s 119us/step - loss: 0.3691 - accuracy: 0.8686 - val_loss: 0.6783 - val_accuracy: 0.7910\n",
            "Epoch 29/30\n",
            "50000/50000 [==============================] - 6s 120us/step - loss: 0.3607 - accuracy: 0.8722 - val_loss: 0.6803 - val_accuracy: 0.7922\n",
            "Epoch 30/30\n",
            "50000/50000 [==============================] - 6s 120us/step - loss: 0.3534 - accuracy: 0.8758 - val_loss: 0.6732 - val_accuracy: 0.7936\n"
          ],
          "name": "stdout"
        },
        {
          "output_type": "execute_result",
          "data": {
            "text/plain": [
              "<keras.callbacks.callbacks.History at 0x7f85f1488080>"
            ]
          },
          "metadata": {
            "tags": []
          },
          "execution_count": 8
        }
      ]
    },
    {
      "cell_type": "code",
      "metadata": {
        "id": "2oQtkMgudzHb",
        "colab_type": "code",
        "outputId": "dc5800f6-c0ab-4c8c-b607-93cd2bdffaca",
        "colab": {
          "base_uri": "https://localhost:8080/",
          "height": 34
        }
      },
      "source": [
        "#save neural network structure\n",
        "model_structure = model.to_json()\n",
        "f = Path(\"model_structure.json\")\n",
        "f.write_text(model_structure)\n"
      ],
      "execution_count": 0,
      "outputs": [
        {
          "output_type": "execute_result",
          "data": {
            "text/plain": [
              "4555"
            ]
          },
          "metadata": {
            "tags": []
          },
          "execution_count": 15
        }
      ]
    },
    {
      "cell_type": "code",
      "metadata": {
        "id": "LKalaTiGgg-f",
        "colab_type": "code",
        "colab": {}
      },
      "source": [
        "#save model weights\n",
        "model.save_weights(\"model.h5\")\n"
      ],
      "execution_count": 0,
      "outputs": []
    },
    {
      "cell_type": "code",
      "metadata": {
        "id": "yQgmsHZ1ckb_",
        "colab_type": "code",
        "colab": {}
      },
      "source": [
        "#prediction\n",
        "class_labels = [\"Plane\",\"Car\",\"Bird\",\"Cat\",\"Deer\",\"Dog\",\"Frog\",\"Horse\",\"Boat\",\"Truck\"]"
      ],
      "execution_count": 0,
      "outputs": []
    },
    {
      "cell_type": "code",
      "metadata": {
        "id": "OX7XZWLidK00",
        "colab_type": "code",
        "colab": {}
      },
      "source": [
        "#load json file that contains model structure\n",
        "f = Path(\"model_structure.json\")\n",
        "model_structure = f.read_text()"
      ],
      "execution_count": 0,
      "outputs": []
    },
    {
      "cell_type": "code",
      "metadata": {
        "id": "koFk8LsOi5Yd",
        "colab_type": "code",
        "colab": {}
      },
      "source": [
        "#recreate model structure\n",
        "model = tf.keras.models.model_from_json(model_structure)"
      ],
      "execution_count": 0,
      "outputs": []
    },
    {
      "cell_type": "code",
      "metadata": {
        "id": "SvzkueQUjepc",
        "colab_type": "code",
        "colab": {}
      },
      "source": [
        "#reload models weights\n",
        "model.load_weights(\"model.h5\")"
      ],
      "execution_count": 0,
      "outputs": []
    },
    {
      "cell_type": "code",
      "metadata": {
        "id": "6-rnBGrZjwZ9",
        "colab_type": "code",
        "colab": {}
      },
      "source": [
        "#load test image\n",
        "img = image.load_img(\"/content/cat.png\",target_size = (32,32))"
      ],
      "execution_count": 0,
      "outputs": []
    },
    {
      "cell_type": "code",
      "metadata": {
        "id": "kR5z3LF7lixo",
        "colab_type": "code",
        "colab": {}
      },
      "source": [
        "#converting to array\n",
        "img_test = image.img_to_array(img)/255\n",
        "img_list = np.expand_dims(img_test,axis=0)"
      ],
      "execution_count": 0,
      "outputs": []
    },
    {
      "cell_type": "code",
      "metadata": {
        "id": "psEasOW7lwG0",
        "colab_type": "code",
        "outputId": "b5bacb30-f118-475d-df1a-7e0ec847b9a9",
        "colab": {
          "base_uri": "https://localhost:8080/",
          "height": 34
        }
      },
      "source": [
        "#predicting\n",
        "results = model.predict(img_list)\n",
        "#since testing only one img we need only first index\n",
        "sing_rslt  = results[0]\n",
        "#getting likelyhood score\n",
        "most_like_index = int(np.argmax(sing_rslt))\n",
        "class_likelihood = sing_rslt[most_like_index]\n",
        "#getting label\n",
        "class_label = class_labels[most_like_index] \n",
        "print(\"this image is a {} and class likelihood : {:.2f}\".format(class_label,class_likelihood))"
      ],
      "execution_count": 0,
      "outputs": [
        {
          "output_type": "stream",
          "text": [
            "this image is a Cat and class likelihood : 0.83\n"
          ],
          "name": "stdout"
        }
      ]
    },
    {
      "cell_type": "markdown",
      "metadata": {
        "id": "8pdXJ8xXqEIG",
        "colab_type": "text"
      },
      "source": [
        "**Object detection**"
      ]
    },
    {
      "cell_type": "code",
      "metadata": {
        "id": "jtmVPvZnqLQR",
        "colab_type": "code",
        "colab": {}
      },
      "source": [
        "from keras.applications import vgg16"
      ],
      "execution_count": 0,
      "outputs": []
    },
    {
      "cell_type": "code",
      "metadata": {
        "id": "WkkdMsfsqQhs",
        "colab_type": "code",
        "outputId": "5acc0d94-4c9d-42b8-c73c-d6c78e188fe0",
        "colab": {
          "base_uri": "https://localhost:8080/",
          "height": 71
        }
      },
      "source": [
        "model1 = vgg16.VGG16()"
      ],
      "execution_count": 0,
      "outputs": [
        {
          "output_type": "stream",
          "text": [
            "Downloading data from https://github.com/fchollet/deep-learning-models/releases/download/v0.1/vgg16_weights_tf_dim_ordering_tf_kernels.h5\n",
            "553467904/553467096 [==============================] - 16s 0us/step\n"
          ],
          "name": "stdout"
        }
      ]
    },
    {
      "cell_type": "code",
      "metadata": {
        "id": "GHmIyuw3qWJC",
        "colab_type": "code",
        "colab": {}
      },
      "source": [
        "img1 = image.load_img(\"bay.jpg\",target_size=(224,224))\n",
        "x = image.img_to_array(img1)\n",
        "x= np.expand_dims(x,axis=0)"
      ],
      "execution_count": 0,
      "outputs": []
    },
    {
      "cell_type": "code",
      "metadata": {
        "id": "K4yDSyaTq0R1",
        "colab_type": "code",
        "colab": {}
      },
      "source": [
        "#preprocess\n",
        "x = vgg16.preprocess_input(x)"
      ],
      "execution_count": 0,
      "outputs": []
    },
    {
      "cell_type": "code",
      "metadata": {
        "id": "cec-32ecsD05",
        "colab_type": "code",
        "outputId": "cbaee56e-0c11-4018-c4d5-92b60411542d",
        "colab": {
          "base_uri": "https://localhost:8080/",
          "height": 187
        }
      },
      "source": [
        "#prediction\n",
        "predictions = model1.predict(x)\n",
        "predicted_classes = vgg16.decode_predictions(predictions,top =9)\n",
        "print(\"Top predictions for this image are:\")\n",
        "\n",
        "for imagenet_id,name,likelihood in predicted_classes[0]:\n",
        "  print(\"Prediction : {}-{:.2f} \".format(name,likelihood))\n"
      ],
      "execution_count": 0,
      "outputs": [
        {
          "output_type": "stream",
          "text": [
            "Top predictions for this image are:\n",
            "Prediction : seashore-0.40 \n",
            "Prediction : promontory-0.33 \n",
            "Prediction : lakeside-0.12 \n",
            "Prediction : breakwater-0.06 \n",
            "Prediction : sandbar-0.05 \n",
            "Prediction : cliff-0.01 \n",
            "Prediction : dock-0.01 \n",
            "Prediction : boathouse-0.00 \n",
            "Prediction : valley-0.00 \n"
          ],
          "name": "stdout"
        }
      ]
    },
    {
      "cell_type": "code",
      "metadata": {
        "id": "SafXe_oTtDOY",
        "colab_type": "code",
        "colab": {}
      },
      "source": [
        ""
      ],
      "execution_count": 0,
      "outputs": []
    }
  ]
}