{
  "nbformat": 4,
  "nbformat_minor": 0,
  "metadata": {
    "colab": {
      "name": "Untitled14.ipynb",
      "provenance": [],
      "toc_visible": true
    },
    "kernelspec": {
      "name": "python3",
      "display_name": "Python 3"
    }
  },
  "cells": [
    {
      "cell_type": "markdown",
      "metadata": {
        "id": "3SEenV-naUQA",
        "colab_type": "text"
      },
      "source": [
        "**Transfer Learning**"
      ]
    },
    {
      "cell_type": "code",
      "metadata": {
        "id": "34l5eDmlaZBa",
        "colab_type": "code",
        "colab": {}
      },
      "source": [
        "from pathlib import Path\n",
        "import numpy as np\n",
        "import joblib\n",
        "from keras.preprocessing import image\n",
        "from keras.applications import vgg16\n",
        "from keras.models import Sequential\n",
        "from keras.layers import Dense,Dropout,Flatten"
      ],
      "execution_count": 0,
      "outputs": []
    },
    {
      "cell_type": "code",
      "metadata": {
        "id": "EzZxh7mFa4vS",
        "colab_type": "code",
        "colab": {}
      },
      "source": [
        "#path to folder containing data\n",
        "dog_path = Path(\"/content/drive/My Drive/training_data\")/\"/content/drive/My Drive/training_data/dogs\"\n",
        "not_dog_path = Path(\"/content/drive/My Drive/training_data\")/\"/content/drive/My Drive/training_data/not_dogs\""
      ],
      "execution_count": 0,
      "outputs": []
    },
    {
      "cell_type": "code",
      "metadata": {
        "id": "ZDn7nw6fdrU3",
        "colab_type": "code",
        "colab": {}
      },
      "source": [
        "#creating array of images and label\n",
        "images = []\n",
        "labels = []"
      ],
      "execution_count": 0,
      "outputs": []
    },
    {
      "cell_type": "code",
      "metadata": {
        "id": "BLjf7ajud1XC",
        "colab_type": "code",
        "colab": {}
      },
      "source": [
        "#load all the not dog images\n",
        "for img in not_dog_path.glob(\"*.png\"):\n",
        "\n",
        "  img = image.load_img(img)\n",
        "  image_array = image.img_to_array(img)\n",
        "  images.append(image_array)\n",
        "  labels.append(0)"
      ],
      "execution_count": 0,
      "outputs": []
    },
    {
      "cell_type": "code",
      "metadata": {
        "id": "NZIjGrPoepku",
        "colab_type": "code",
        "colab": {}
      },
      "source": [
        "#load all the dog images\n",
        "for img in dog_path.glob(\"*.png\"):\n",
        "\n",
        "  img = image.load_img(img)\n",
        "  image_array = image.img_to_array(img)\n",
        "  images.append(image_array)\n",
        "  labels.append(1)"
      ],
      "execution_count": 0,
      "outputs": []
    },
    {
      "cell_type": "code",
      "metadata": {
        "id": "r4Zrn5qEfK1y",
        "colab_type": "code",
        "colab": {}
      },
      "source": [
        "#creating numpy array of images and labels and normalizing\n",
        "x_train = np.array(images)\n",
        "y_train = np.array(labels)\n",
        "x_train = vgg16.preprocess_input(x_train)"
      ],
      "execution_count": 0,
      "outputs": []
    },
    {
      "cell_type": "code",
      "metadata": {
        "id": "HuZsoVGmfsw0",
        "colab_type": "code",
        "colab": {}
      },
      "source": [
        "#loading a pretrained nn and use as feature extractor\n",
        "pre_nn = vgg16.VGG16(weights = 'imagenet' ,include_top = False ,input_shape =(64,64,3))"
      ],
      "execution_count": 0,
      "outputs": []
    },
    {
      "cell_type": "code",
      "metadata": {
        "id": "QrTX0D_Xiv_K",
        "colab_type": "code",
        "colab": {}
      },
      "source": [
        "#extracting features for all images\n",
        "feat_x = pre_nn.predict(x_train)"
      ],
      "execution_count": 0,
      "outputs": []
    },
    {
      "cell_type": "code",
      "metadata": {
        "id": "d645o0yVjCD5",
        "colab_type": "code",
        "outputId": "6cb4f04f-5a09-4fab-e1be-8fbe89e06941",
        "colab": {
          "base_uri": "https://localhost:8080/",
          "height": 34
        }
      },
      "source": [
        "#saving extracted features and matched array\n",
        "joblib.dump(feat_x,\"x_train.dat\")\n",
        "joblib.dump(y_train,\"y_train.dat\")"
      ],
      "execution_count": 0,
      "outputs": [
        {
          "output_type": "execute_result",
          "data": {
            "text/plain": [
              "['y_train.dat']"
            ]
          },
          "metadata": {
            "tags": []
          },
          "execution_count": 80
        }
      ]
    },
    {
      "cell_type": "code",
      "metadata": {
        "id": "u86k749cuLEq",
        "colab_type": "code",
        "colab": {}
      },
      "source": [
        "x_train = joblib.load(\"x_train.dat\")\n",
        "y_train = joblib.load(\"y_train.dat\")"
      ],
      "execution_count": 0,
      "outputs": []
    },
    {
      "cell_type": "code",
      "metadata": {
        "id": "BuGIvdO_jlCT",
        "colab_type": "code",
        "outputId": "1d9f0483-9dc4-43af-bf71-e59187d7febf",
        "colab": {
          "base_uri": "https://localhost:8080/",
          "height": 289
        }
      },
      "source": [
        "#creating a nn\n",
        "model = Sequential()\n",
        "model.add(Flatten(input_shape = x_train.shape[1:]))\n",
        "model.add(Dense(256,activation='relu'))\n",
        "model.add(Dropout(0.5))\n",
        "model.add(Dense(1,activation='sigmoid'))\n",
        "model.summary()"
      ],
      "execution_count": 0,
      "outputs": [
        {
          "output_type": "stream",
          "text": [
            "Model: \"sequential_6\"\n",
            "_________________________________________________________________\n",
            "Layer (type)                 Output Shape              Param #   \n",
            "=================================================================\n",
            "flatten_5 (Flatten)          (None, 2048)              0         \n",
            "_________________________________________________________________\n",
            "dense_9 (Dense)              (None, 256)               524544    \n",
            "_________________________________________________________________\n",
            "dropout_5 (Dropout)          (None, 256)               0         \n",
            "_________________________________________________________________\n",
            "dense_10 (Dense)             (None, 1)                 257       \n",
            "=================================================================\n",
            "Total params: 524,801\n",
            "Trainable params: 524,801\n",
            "Non-trainable params: 0\n",
            "_________________________________________________________________\n"
          ],
          "name": "stdout"
        }
      ]
    },
    {
      "cell_type": "code",
      "metadata": {
        "id": "8MhmRMqslFNa",
        "colab_type": "code",
        "colab": {}
      },
      "source": [
        "#compiling\n",
        "model.compile(loss='binary_crossentropy',optimizer='adam',metrics=[\"accuracy\"])"
      ],
      "execution_count": 0,
      "outputs": []
    },
    {
      "cell_type": "code",
      "metadata": {
        "id": "znf4wefBlSkn",
        "colab_type": "code",
        "outputId": "7e20e77a-bf9b-4219-9245-8c096dcbf19e",
        "colab": {
          "base_uri": "https://localhost:8080/",
          "height": 374
        }
      },
      "source": [
        "#train\n",
        "model.fit(x_train,y_train,epochs=10,shuffle=True)"
      ],
      "execution_count": 0,
      "outputs": [
        {
          "output_type": "stream",
          "text": [
            "Epoch 1/10\n",
            "58/58 [==============================] - 0s 2ms/step - loss: 10.2480 - accuracy: 0.5690\n",
            "Epoch 2/10\n",
            "58/58 [==============================] - 0s 370us/step - loss: 3.7904 - accuracy: 0.8448\n",
            "Epoch 3/10\n",
            "58/58 [==============================] - 0s 367us/step - loss: 0.3916 - accuracy: 0.9483\n",
            "Epoch 4/10\n",
            "58/58 [==============================] - 0s 350us/step - loss: 0.0136 - accuracy: 0.9828\n",
            "Epoch 5/10\n",
            "58/58 [==============================] - 0s 440us/step - loss: 3.3535e-10 - accuracy: 1.0000\n",
            "Epoch 6/10\n",
            "58/58 [==============================] - 0s 359us/step - loss: 1.9301e-12 - accuracy: 1.0000\n",
            "Epoch 7/10\n",
            "58/58 [==============================] - 0s 368us/step - loss: 4.2679e-04 - accuracy: 1.0000\n",
            "Epoch 8/10\n",
            "58/58 [==============================] - 0s 364us/step - loss: 7.5287e-16 - accuracy: 1.0000\n",
            "Epoch 9/10\n",
            "58/58 [==============================] - 0s 351us/step - loss: 3.2696e-11 - accuracy: 1.0000\n",
            "Epoch 10/10\n",
            "58/58 [==============================] - 0s 365us/step - loss: 9.3979e-17 - accuracy: 1.0000\n"
          ],
          "name": "stdout"
        },
        {
          "output_type": "execute_result",
          "data": {
            "text/plain": [
              "<keras.callbacks.callbacks.History at 0x7fb2197ee3c8>"
            ]
          },
          "metadata": {
            "tags": []
          },
          "execution_count": 91
        }
      ]
    },
    {
      "cell_type": "code",
      "metadata": {
        "id": "R7wfsI2UsTZ1",
        "colab_type": "code",
        "colab": {}
      },
      "source": [
        "img1 = image.load_img(\"dog.png\",target_size=(64,64))\n",
        "image_array = image.img_to_array(img1)\n",
        "image = np.expand_dims(image_array,axis=0)\n",
        "image = vgg16.preprocess_input(image)\n"
      ],
      "execution_count": 0,
      "outputs": []
    },
    {
      "cell_type": "code",
      "metadata": {
        "id": "qTFndCfau36C",
        "colab_type": "code",
        "outputId": "894c54e2-b5e7-4045-acfb-1bf06622b010",
        "colab": {
          "base_uri": "https://localhost:8080/",
          "height": 34
        }
      },
      "source": [
        "image.shape"
      ],
      "execution_count": 0,
      "outputs": [
        {
          "output_type": "execute_result",
          "data": {
            "text/plain": [
              "(1, 64, 64, 3)"
            ]
          },
          "metadata": {
            "tags": []
          },
          "execution_count": 21
        }
      ]
    },
    {
      "cell_type": "code",
      "metadata": {
        "id": "RlWrZ3uNoxNw",
        "colab_type": "code",
        "outputId": "b007af58-c4f6-415c-991c-01ee4e60bd39",
        "colab": {
          "base_uri": "https://localhost:8080/",
          "height": 34
        }
      },
      "source": [
        "#extracting features of test images\n",
        "feat_exact_model = vgg16.VGG16(weights = 'imagenet' ,include_top = False ,input_shape =(64,64,3))\n",
        "features = feat_exact_model.predict(image)\n",
        "results = model.predict(features)\n",
        "sing_rslt = results[0][0]\n",
        "print(\"likelihood of being a dog :{}\".format(int(sing_rslt)))"
      ],
      "execution_count": 0,
      "outputs": [
        {
          "output_type": "stream",
          "text": [
            "likelihood of being a dog :1\n"
          ],
          "name": "stdout"
        }
      ]
    },
    {
      "cell_type": "code",
      "metadata": {
        "id": "iEGPeS15CqX5",
        "colab_type": "code",
        "outputId": "17d7e84c-cfbd-40c4-8f8d-afb3b718f0eb",
        "colab": {
          "base_uri": "https://localhost:8080/",
          "height": 34
        }
      },
      "source": [
        "features.shape"
      ],
      "execution_count": 0,
      "outputs": [
        {
          "output_type": "execute_result",
          "data": {
            "text/plain": [
              "(1, 2, 2, 512)"
            ]
          },
          "metadata": {
            "tags": []
          },
          "execution_count": 58
        }
      ]
    },
    {
      "cell_type": "code",
      "metadata": {
        "id": "rJsqGXsgBY8N",
        "colab_type": "code",
        "outputId": "69078e1e-a062-44e0-e3bc-b4c7413f9a69",
        "colab": {
          "base_uri": "https://localhost:8080/",
          "height": 34
        }
      },
      "source": [
        "features.shape"
      ],
      "execution_count": 0,
      "outputs": [
        {
          "output_type": "execute_result",
          "data": {
            "text/plain": [
              "(1, 2, 2, 512)"
            ]
          },
          "metadata": {
            "tags": []
          },
          "execution_count": 50
        }
      ]
    },
    {
      "cell_type": "code",
      "metadata": {
        "id": "12jecMvVltwP",
        "colab_type": "code",
        "colab": {}
      },
      "source": [
        "#save model\n",
        "model_structure = model.to_json()\n",
        "f = Path(\"model_structure.json\")\n",
        "f.write_text(model_structure)\n",
        "#save weights\n",
        "model.save_weights(\"model_weights.h5\")"
      ],
      "execution_count": 0,
      "outputs": []
    },
    {
      "cell_type": "code",
      "metadata": {
        "id": "V5s2rwaUmc3h",
        "colab_type": "code",
        "colab": {}
      },
      "source": [
        ""
      ],
      "execution_count": 0,
      "outputs": []
    }
  ]
}